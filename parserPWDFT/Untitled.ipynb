{
 "cells": [
  {
   "cell_type": "code",
   "execution_count": 1,
   "id": "bd47f797",
   "metadata": {},
   "outputs": [],
   "source": [
    "import sys\n",
    "import os\n",
    "sys.path.append(\"/home/rayhe/Github/utils_esp/parserPWDFT/\")\n",
    "import parser "
   ]
  },
  {
   "cell_type": "code",
   "execution_count": 2,
   "id": "4dba375c",
   "metadata": {},
   "outputs": [
    {
     "name": "stdout",
     "output_type": "stream",
     "text": [
      "/home/rayhe/Github/utils_esp/parserPWDFT/parserPWDFT/parser.py\n"
     ]
    }
   ],
   "source": [
    "print(parser.__file__)"
   ]
  },
  {
   "cell_type": "code",
   "execution_count": 4,
   "id": "15835818",
   "metadata": {},
   "outputs": [
    {
     "data": {
      "text/plain": [
       "dict_keys(['time', 'fft', 'lag', 'vxc', 'pot', 'non', 'ffm', 'fmf', 'dia', 'mmm'])"
      ]
     },
     "execution_count": 4,
     "metadata": {},
     "output_type": "execute_result"
    }
   ],
   "source": [
    "qe.total.keys()"
   ]
  },
  {
   "cell_type": "code",
   "execution_count": 5,
   "id": "5aca02ca",
   "metadata": {},
   "outputs": [
    {
     "name": "stdout",
     "output_type": "stream",
     "text": [
      " STATUS\n",
      " The job is done      :  True\n",
      " Number of cycles     :  4\n",
      " Ecut is              :  60.0\n",
      "\n",
      " TIME - TOTAL \n",
      " Total time           :  599.52525\n",
      " Total FFT time       :  96.175378\n",
      " Lagrange multipliers :  1.1995223\n",
      " Exchange correlation :  17.893898\n",
      " local potentials     :  16.45616861\n",
      " non-local potentials :  16.412991\n",
      " ffm dgemm            :  3.9723614\n",
      " fmf dgemm            :  10.096109\n",
      " m_diagonalize        :  1.6286553000000001\n",
      " mmm_multiply         :  0.03813041\n",
      "\n",
      " TIME - STEP \n",
      " Total time           :  18.9729197\n",
      " Total FFT time       :  2.65612863\n",
      " Lagrange multipliers :  0.026878592\n",
      " Exchange correlation :  0.473244644\n",
      " local potentials     :  0.404019816191\n",
      " non-local potentials :  0.40260041\n",
      " ffm dgemm            :  0.09192075799999999\n",
      " fmf dgemm            :  0.22218865100000001\n",
      " m_diagonalize        :  0.033423175\n",
      " mmm_multiply         :  0.00080846712\n",
      "\n"
     ]
    }
   ],
   "source": [
    "parser.print_info(qe)"
   ]
  },
  {
   "cell_type": "code",
   "execution_count": null,
   "id": "229142f6",
   "metadata": {},
   "outputs": [],
   "source": []
  }
 ],
 "metadata": {
  "kernelspec": {
   "display_name": "Python 3 (ipykernel)",
   "language": "python",
   "name": "python3"
  },
  "language_info": {
   "codemirror_mode": {
    "name": "ipython",
    "version": 3
   },
   "file_extension": ".py",
   "mimetype": "text/x-python",
   "name": "python",
   "nbconvert_exporter": "python",
   "pygments_lexer": "ipython3",
   "version": "3.10.8"
  }
 },
 "nbformat": 4,
 "nbformat_minor": 5
}
